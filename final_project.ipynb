{
 "cells": [
  {
   "cell_type": "markdown",
   "metadata": {
    "id": "14sNF9aOFaSM"
   },
   "source": [
    "# FINAL PROJECT\n",
    "\n",
    "Input data files are available in the \"../data/input/\" directory."
   ]
  },
  {
   "cell_type": "markdown",
   "metadata": {
    "id": "-zjMXQ3FFaSS"
   },
   "source": []
  },
  {
   "cell_type": "code",
   "execution_count": null,
   "metadata": {
    "id": "x832Kk66FaST"
   },
   "outputs": [],
   "source": [
    "import matplotlib.pyplot as plt\n",
    "from matplotlib.colors import ListedColormap\n",
    "import numpy as np\n",
    "import pandas as pd\n",
    "import itertools"
   ]
  },
  {
   "cell_type": "code",
   "execution_count": null,
   "outputs": [],
   "source": [
    "from sklearn.model_selection import train_test_split\n",
    "from sklearn.feature_extraction.text import CountVectorizer\n",
    "from sklearn.feature_extraction.text import TfidfVectorizer\n",
    "from sklearn.metrics import accuracy_score\n",
    "from sklearn.metrics import ConfusionMatrixDisplay"
   ],
   "metadata": {
    "collapsed": false,
    "pycharm": {
     "name": "#%%\n"
    }
   }
  },
  {
   "cell_type": "markdown",
   "metadata": {
    "id": "VWbKzPx7FaSY"
   },
   "source": [
    "## Helper Functions"
   ]
  },
  {
   "cell_type": "code",
   "execution_count": null,
   "metadata": {
    "id": "FvwYAsKTFaSZ"
   },
   "outputs": [],
   "source": [
    "def plot_points(X, y):\n",
    "    cm = ListedColormap(['blue', 'orange'])\n",
    "    plt.scatter(X[:, 0], X[:, 1], c=y, cmap=cm)\n",
    "\n",
    "\n",
    "    plt.show()"
   ]
  },
  {
   "cell_type": "code",
   "execution_count": null,
   "outputs": [],
   "source": [
    "def plot_DB_and_test_data(model, X_train, X_test, y_test):\n",
    "\n",
    "    x_min, x_max = X[:, 0].min() - .5, X[:, 0].max() + .5\n",
    "    y_min, y_max = X[:, 1].min() - .5, X[:, 1].max() + .5\n",
    "    xx, yy = np.meshgrid(np.arange(x_min, x_max, 0.02),\n",
    "                             np.arange(y_min, y_max, 0.02))\n",
    "\n",
    "    cm = ListedColormap(['royalblue', 'moccasin'])\n",
    "    Z = model.predict(np.c_[xx.ravel(), yy.ravel()])\n",
    "    Z = Z.reshape(xx.shape)\n",
    "    plt.contourf(xx, yy, Z, cmap=cm, alpha=.8)\n",
    "    plt.title('Decision Boundary')\n",
    "    plt.xlabel('Feature 1')\n",
    "    plt.ylabel('Feature 2')\n",
    "\n",
    "    plot_points(X_test, y_test)\n",
    "\n",
    "    plt.show()"
   ],
   "metadata": {
    "collapsed": false,
    "pycharm": {
     "name": "#%%\n"
    }
   }
  },
  {
   "cell_type": "code",
   "execution_count": null,
   "outputs": [],
   "source": [
    "### https://scikit-learn.org/stable/auto_examples/model_selection/plot_confusion_matrix.html#sphx-glr-auto-examples-model-selection-plot-confusion-matrix-py\n",
    "def confusion_matrix(model, X_train, X_test, y_test):\n",
    "\n",
    "    disp = ConfusionMatrixDisplay.from_estimator(model, X_test, y_test, cmap=plt.cm.Blues,)\n",
    "    disp.ax_.set_title(\"Confusion Matrix\")\n",
    "\n",
    "    print(\"Confusion Matrix\")\n",
    "    print(disp.confusion_matrix)\n",
    "\n",
    "    plt.show()"
   ],
   "metadata": {
    "collapsed": false,
    "pycharm": {
     "name": "#%%\n"
    }
   }
  },
  {
   "cell_type": "markdown",
   "source": [
    "# Fake News Classifier\n",
    "\n",
    "##### We construct word vectors using various ways and evaluate classification performance against them to develop our NLP models."
   ],
   "metadata": {
    "collapsed": false,
    "pycharm": {
     "name": "#%% md\n"
    }
   }
  },
  {
   "cell_type": "code",
   "execution_count": null,
   "outputs": [],
   "source": [
    "# Load data and perform some preprocessing\n",
    "\n",
    "df = pd.read_csv('data/input/combinedData.csv')\n",
    "df.dropna()\n",
    "df['label'] = df['label'].map({'REAL': 1, 'FAKE': 0})\n",
    "# df"
   ],
   "metadata": {
    "collapsed": false,
    "pycharm": {
     "name": "#%%\n"
    }
   }
  },
  {
   "cell_type": "code",
   "execution_count": null,
   "outputs": [],
   "source": [
    "df"
   ],
   "metadata": {
    "collapsed": false,
    "pycharm": {
     "name": "#%%\n"
    }
   }
  },
  {
   "cell_type": "code",
   "execution_count": null,
   "outputs": [],
   "source": [
    "X = df['text']\n",
    "y = df.label\n",
    "\n",
    "#split data into 80/20 for training and testing respectively\n",
    "X_train, X_test, y_train, y_test = train_test_split(X, y, test_size=0.20, random_state=42)"
   ],
   "metadata": {
    "collapsed": false,
    "pycharm": {
     "name": "#%%\n"
    }
   }
  },
  {
   "cell_type": "markdown",
   "source": [
    "### Using CountVectorizer\n",
    "\n",
    "The CountVectorizer provides a simple way to both tokenize a collection of text documents and build a vocabulary of known words, but also to encode new documents using that vocabulary."
   ],
   "metadata": {
    "collapsed": false,
    "pycharm": {
     "name": "#%% md\n"
    }
   }
  },
  {
   "cell_type": "code",
   "execution_count": null,
   "outputs": [],
   "source": [
    "cv_vectorizer = CountVectorizer(stop_words='english')\n",
    "cv_train = cv_vectorizer.fit_transform(X_train.values).toarray()\n",
    "cv_test = cv_vectorizer.transform(X_test.values).toarray()"
   ],
   "metadata": {
    "collapsed": false,
    "pycharm": {
     "name": "#%%\n"
    }
   }
  },
  {
   "cell_type": "code",
   "execution_count": null,
   "outputs": [],
   "source": [],
   "metadata": {
    "collapsed": false,
    "pycharm": {
     "name": "#%%\n"
    }
   }
  },
  {
   "cell_type": "markdown",
   "source": [
    "### Using TfidfVectorizer\n",
    "\n",
    "The TfidfVectorizer will tokenize documents, learn the vocabulary and inverse document frequency weightings, and allow you to encode new documents. Alternately, if you already have a learned CountVectorizer, you can use it with a TfidfTransformer to just calculate the inverse document frequencies and start encoding documents."
   ],
   "metadata": {
    "collapsed": false,
    "pycharm": {
     "name": "#%% md\n"
    }
   }
  },
  {
   "cell_type": "code",
   "execution_count": null,
   "outputs": [],
   "source": [
    "tv_vectorizer = TfidfVectorizer(stop_words='english')\n",
    "tv_train = tv_vectorizer.fit_transform(X_train).toarray()\n",
    "tv_test = tv_vectorizer.transform(X_test).toarray()"
   ],
   "metadata": {
    "collapsed": false,
    "pycharm": {
     "name": "#%%\n"
    }
   }
  },
  {
   "cell_type": "markdown",
   "source": [
    "# Comparing Classification Models using Count Vectorizer"
   ],
   "metadata": {
    "collapsed": false,
    "pycharm": {
     "name": "#%% md\n"
    }
   }
  },
  {
   "cell_type": "code",
   "execution_count": null,
   "outputs": [],
   "source": [
    "%%time\n",
    "### Gaussian Naive Bayes\n",
    "\n",
    "from sklearn.naive_bayes import GaussianNB\n",
    "\n",
    "clf = GaussianNB()\n",
    "clf.fit(cv_train, y_train)\n",
    "pred = clf.predict(cv_test)\n",
    "#plot_DB_and_test_data(clf,cv_train, cv_test, y_test)\n",
    "confusion_matrix(clf,cv_train, cv_test, y_test)\n",
    "# print(pred)\n",
    "print(\"Model's Accuracy (Gaussian Naive Bayes):\", accuracy_score(y_test, pred))\n"
   ],
   "metadata": {
    "collapsed": false,
    "pycharm": {
     "name": "#%%\n"
    }
   }
  },
  {
   "cell_type": "code",
   "execution_count": null,
   "outputs": [],
   "source": [],
   "metadata": {
    "collapsed": false,
    "pycharm": {
     "name": "#%%\n"
    }
   }
  },
  {
   "cell_type": "code",
   "execution_count": null,
   "outputs": [],
   "source": [
    "%%time\n",
    "### Multinomial Naive Bayes\n",
    "\n",
    "from sklearn.naive_bayes import MultinomialNB\n",
    "\n",
    "clf = MultinomialNB()\n",
    "clf.fit(cv_train, y_train)\n",
    "pred = clf.predict(cv_test)\n",
    "\n",
    "# plot_DB_and_test_data(clf,X_train,X_test,y_test)\n",
    "confusion_matrix(clf,cv_train, cv_test, y_test)\n",
    "# print(pred)\n",
    "print(\"Model's Accuracy (Multinomial Naive Bayes):\", accuracy_score(y_test, pred))"
   ],
   "metadata": {
    "collapsed": false,
    "pycharm": {
     "name": "#%%\n"
    }
   }
  },
  {
   "cell_type": "code",
   "execution_count": null,
   "outputs": [],
   "source": [
    "%%time\n",
    "### Decision Tree\n",
    "\n",
    "from sklearn.tree import DecisionTreeClassifier\n",
    "\n",
    "clf = DecisionTreeClassifier()\n",
    "clf.fit(cv_train, y_train)\n",
    "\n",
    "pred = clf.predict(cv_test)\n",
    "#plot_DB_and_test_data(clf,cv_train, cv_test, y_test)\n",
    "confusion_matrix(clf,cv_train, cv_test, y_test)\n",
    "# print(pred)\n",
    "print(\"Model's Accuracy (Decision Tree):\", accuracy_score(y_test, pred))"
   ],
   "metadata": {
    "collapsed": false,
    "pycharm": {
     "name": "#%%\n"
    }
   }
  },
  {
   "cell_type": "code",
   "execution_count": null,
   "outputs": [],
   "source": [
    "%%time\n",
    "### Linear Support Vector Machine\n",
    "\n",
    "from sklearn.svm import LinearSVC\n",
    "from sklearn.pipeline import make_pipeline\n",
    "from sklearn.preprocessing import StandardScaler\n",
    "\n",
    "clf = make_pipeline(StandardScaler(), LinearSVC(random_state=0, tol=1e-5))\n",
    "clf.fit(cv_train, y_train)\n",
    "\n",
    "pred = clf.predict(cv_test)\n",
    "#plot_DB_and_test_data(clf,cv_train, cv_test, y_test)\n",
    "confusion_matrix(clf,cv_train, cv_test, y_test)\n",
    "# print(pred)\n",
    "print(\"Model's Accuracy (Linear Support Vector Machine):\", accuracy_score(y_test, pred))"
   ],
   "metadata": {
    "collapsed": false,
    "pycharm": {
     "name": "#%%\n",
     "is_executing": true
    }
   }
  },
  {
   "cell_type": "code",
   "execution_count": null,
   "outputs": [],
   "source": [
    "%%time\n",
    "### Passive Aggressive Classifier\n",
    "\n",
    "from sklearn.linear_model import PassiveAggressiveClassifier\n",
    "\n",
    "clf = make_pipeline(StandardScaler(), PassiveAggressiveClassifier(random_state=0, tol=1e-5))\n",
    "clf.fit(cv_train, y_train)\n",
    "\n",
    "pred = clf.predict(cv_test)\n",
    "#plot_DB_and_test_data(clf,cv_train, cv_test, y_test)\n",
    "confusion_matrix(clf,cv_train, cv_test, y_test)\n",
    "# print(pred)\n",
    "print(\"Model's Accuracy (Linear Support Vector Machine):\", accuracy_score(y_test, pred))"
   ],
   "metadata": {
    "collapsed": false,
    "pycharm": {
     "name": "#%%\n",
     "is_executing": true
    }
   }
  },
  {
   "cell_type": "code",
   "execution_count": null,
   "outputs": [],
   "source": [
    "%%time\n",
    "### Support Vector Machine with RBF Kernel\n",
    "from sklearn import svm\n",
    "\n",
    "clf = make_pipeline(StandardScaler(), svm.SVC(kernel='rbf'))\n",
    "clf.fit(cv_train, y_train)\n",
    "\n",
    "pred = clf.predict(cv_test)\n",
    "#plot_DB_and_test_data(clf,cv_train, cv_test, y_test)\n",
    "confusion_matrix(clf,cv_train, cv_test, y_test)\n",
    "print(\"Model's Accuracy (Support Vector Machine with RBF Kernel):\", accuracy_score(y_test, pred))"
   ],
   "metadata": {
    "collapsed": false,
    "pycharm": {
     "name": "#%%\n",
     "is_executing": true
    }
   }
  },
  {
   "cell_type": "code",
   "execution_count": null,
   "outputs": [],
   "source": [
    "%%time\n",
    "### Multi-Layer Perceptron Network\n",
    "from sklearn.neural_network import MLPClassifier\n",
    "\n",
    "clf = MLPClassifier(activation='tanh', hidden_layer_sizes=(20,), max_iter=2000)\n",
    "clf.fit(cv_train, y_train)\n",
    "\n",
    "pred = clf.predict(cv_test)\n",
    "#plot_DB_and_test_data(clf,cv_train, cv_test, y_test)\n",
    "confusion_matrix(clf,cv_train, cv_test, y_test)\n",
    "# print(pred)\n",
    "print(\"Model's Accuracy (Multi-Layer Perceptron Neural Network):\", accuracy_score(y_test, pred))"
   ],
   "metadata": {
    "collapsed": false,
    "pycharm": {
     "name": "#%%\n",
     "is_executing": true
    }
   }
  },
  {
   "cell_type": "markdown",
   "source": [
    "# Comparing Classification Models using TfidfVectorizer"
   ],
   "metadata": {
    "collapsed": false,
    "pycharm": {
     "name": "#%% md\n"
    }
   }
  },
  {
   "cell_type": "code",
   "execution_count": null,
   "outputs": [],
   "source": [
    "%%time\n",
    "### Gaussian Naive Bayes\n",
    "\n",
    "from sklearn.naive_bayes import GaussianNB\n",
    "\n",
    "clf = GaussianNB()\n",
    "clf.fit(tv_train, y_train)\n",
    "\n",
    "pred = clf.predict(tv_test)\n",
    "#plot_DB_and_test_data(clf,cv_train, cv_test, y_test)\n",
    "confusion_matrix(clf,tv_train, tv_test, y_test)\n",
    "# print(pred)\n",
    "print(\"Model's Accuracy (Gaussian Naive Bayes):\", accuracy_score(y_test, pred))"
   ],
   "metadata": {
    "collapsed": false,
    "pycharm": {
     "name": "#%%\n"
    }
   }
  },
  {
   "cell_type": "code",
   "execution_count": null,
   "outputs": [],
   "source": [
    "%%timeit\n",
    "### Multinomial Naive Bayes\n",
    "\n",
    "from sklearn.naive_bayes import MultinomialNB\n",
    "\n",
    "clf = MultinomialNB()\n",
    "clf.fit(tv_train, y_train)\n",
    "\n",
    "pred = clf.predict(tv_test)\n",
    "#plot_DB_and_test_data(clf,cv_train, cv_test, y_test)\n",
    "confusion_matrix(clf,tv_train, tv_test, y_test)\n",
    "# print(pred)\n",
    "print(\"Model's Accuracy (Multinomial Naive Bayes):\", accuracy_score(y_test, pred))"
   ],
   "metadata": {
    "collapsed": false,
    "pycharm": {
     "name": "#%%\n"
    }
   }
  },
  {
   "cell_type": "code",
   "execution_count": null,
   "outputs": [],
   "source": [
    "%%time\n",
    "### Decision Tree\n",
    "\n",
    "from sklearn.tree import DecisionTreeClassifier\n",
    "\n",
    "clf = DecisionTreeClassifier()\n",
    "clf.fit(tv_train, y_train)\n",
    "\n",
    "pred = clf.predict(tv_test)\n",
    "#plot_DB_and_test_data(clf,cv_train, cv_test, y_test)\n",
    "confusion_matrix(clf,tv_train, tv_test, y_test)\n",
    "# print(pred)\n",
    "print(\"Model's Accuracy (Decision Tree):\", accuracy_score(y_test, pred))"
   ],
   "metadata": {
    "collapsed": false,
    "pycharm": {
     "name": "#%%\n"
    }
   }
  },
  {
   "cell_type": "code",
   "execution_count": null,
   "outputs": [],
   "source": [
    "%%time\n",
    "### Linear Support Vector Machine\n",
    "\n",
    "from sklearn.svm import LinearSVC\n",
    "from sklearn.pipeline import make_pipeline\n",
    "from sklearn.preprocessing import StandardScaler\n",
    "\n",
    "clf = make_pipeline(StandardScaler(), LinearSVC(random_state=0, tol=1e-5))\n",
    "clf.fit(tv_train, y_train)\n",
    "\n",
    "pred = clf.predict(tv_test)\n",
    "#plot_DB_and_test_data(clf,cv_train, cv_test, y_test)\n",
    "confusion_matrix(clf,tv_train, tv_test, y_test)\n",
    "# print(pred)\n",
    "print(\"Model's Accuracy (Linear Support Vector Machine):\", accuracy_score(y_test, pred))"
   ],
   "metadata": {
    "collapsed": false,
    "pycharm": {
     "name": "#%%\n"
    }
   }
  },
  {
   "cell_type": "code",
   "execution_count": null,
   "outputs": [],
   "source": [
    "%%timeit\n",
    "\n",
    "### Passive Aggressive Classifier\n",
    "\n",
    "from sklearn.linear_model import PassiveAggressiveClassifier\n",
    "\n",
    "clf = make_pipeline(StandardScaler(), PassiveAggressiveClassifier(random_state=0, tol=1e-5))\n",
    "clf.fit(tv_train, y_train)\n",
    "\n",
    "pred = clf.predict(tv_test)\n",
    "#plot_DB_and_test_data(clf,cv_train, cv_test, y_test)\n",
    "confusion_matrix(clf,tv_train, tv_test, y_test)\n",
    "# print(pred)\n",
    "print(\"Model's Accuracy (Linear Support Vector Machine):\", accuracy_score(y_test, pred))"
   ],
   "metadata": {
    "collapsed": false,
    "pycharm": {
     "name": "#%%\n"
    }
   }
  },
  {
   "cell_type": "code",
   "execution_count": null,
   "outputs": [],
   "source": [
    "%%time\n",
    "\n",
    "### Support Vector Machine with RBF Kernel\n",
    "\n",
    "from sklearn import svm\n",
    "\n",
    "clf = make_pipeline(StandardScaler(), svm.SVC(kernel='rbf'))\n",
    "clf.fit(tv_train, y_train)\n",
    "\n",
    "pred = clf.predict(tv_test)\n",
    "#plot_DB_and_test_data(clf,cv_train, cv_test, y_test)\n",
    "confusion_matrix(clf,tv_train, tv_test, y_test)\n",
    "print(\"Model's Accuracy (Support Vector Machine with RBF Kernel):\", accuracy_score(y_test, pred))"
   ],
   "metadata": {
    "collapsed": false,
    "pycharm": {
     "name": "#%%\n"
    }
   }
  },
  {
   "cell_type": "code",
   "execution_count": null,
   "outputs": [],
   "source": [
    "%%time\n",
    "\n",
    "### Multi-Layer Perceptron Network\n",
    "from sklearn.neural_network import MLPClassifier\n",
    "\n",
    "clf = MLPClassifier(activation='tanh', hidden_layer_sizes=(20,), max_iter=2000)\n",
    "clf.fit(tv_train, y_train)\n",
    "\n",
    "pred = clf.predict(tv_test)\n",
    "#plot_DB_and_test_data(clf,cv_train, cv_test, y_test)\n",
    "confusion_matrix(clf,tv_train, tv_test, y_test)\n",
    "# print(pred)\n",
    "print(\"Model's Accuracy (Multi-Layer Perceptron Neural Network):\", accuracy_score(y_test, pred))"
   ],
   "metadata": {
    "collapsed": false,
    "pycharm": {
     "name": "#%%\n"
    }
   }
  },
  {
   "cell_type": "code",
   "execution_count": null,
   "outputs": [],
   "source": [],
   "metadata": {
    "collapsed": false,
    "pycharm": {
     "name": "#%%\n"
    }
   }
  }
 ],
 "metadata": {
  "colab": {
   "collapsed_sections": [],
   "name": "Assignment 4 - Classification.ipynb",
   "provenance": []
  },
  "kernelspec": {
   "display_name": "Python 3 (ipykernel)",
   "language": "python",
   "name": "python3"
  },
  "language_info": {
   "codemirror_mode": {
    "name": "ipython",
    "version": 3
   },
   "file_extension": ".py",
   "mimetype": "text/x-python",
   "name": "python",
   "nbconvert_exporter": "python",
   "pygments_lexer": "ipython3",
   "version": "3.8.5"
  },
  "latex_envs": {
   "LaTeX_envs_menu_present": true,
   "autoclose": false,
   "autocomplete": true,
   "bibliofile": "biblio.bib",
   "cite_by": "apalike",
   "current_citInitial": 1,
   "eqLabelWithNumbers": true,
   "eqNumInitial": 1,
   "hotkeys": {
    "equation": "Ctrl-E",
    "itemize": "Ctrl-I"
   },
   "labels_anchors": false,
   "latex_user_defs": false,
   "report_style_numbering": false,
   "user_envs_cfg": false
  },
  "varInspector": {
   "cols": {
    "lenName": 16,
    "lenType": 16,
    "lenVar": 40
   },
   "kernels_config": {
    "python": {
     "delete_cmd_postfix": "",
     "delete_cmd_prefix": "del ",
     "library": "var_list.py",
     "varRefreshCmd": "print(var_dic_list())"
    },
    "r": {
     "delete_cmd_postfix": ") ",
     "delete_cmd_prefix": "rm(",
     "library": "var_list.r",
     "varRefreshCmd": "cat(var_dic_list()) "
    }
   },
   "types_to_exclude": [
    "module",
    "function",
    "builtin_function_or_method",
    "instance",
    "_Feature"
   ],
   "window_display": false
  }
 },
 "nbformat": 4,
 "nbformat_minor": 0
}